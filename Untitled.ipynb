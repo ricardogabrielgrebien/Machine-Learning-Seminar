{
 "cells": [
  {
   "cell_type": "code",
   "execution_count": 26,
   "id": "407232ff-0981-4b36-aff3-b1e4a6b52776",
   "metadata": {},
   "outputs": [],
   "source": [
    "from manim import *\n",
    "import numpy as np\n",
    "\n",
    "config.media_width = \"75%\"\n",
    "config.verbosity = \"WARNING\""
   ]
  },
  {
   "cell_type": "code",
   "execution_count": 25,
   "id": "dcdee806-4259-477c-976e-5408664c59c2",
   "metadata": {},
   "outputs": [
    {
     "data": {
      "text/html": [
       "<pre style=\"white-space:pre;overflow-x:auto;line-height:normal;font-family:Menlo,'DejaVu Sans Mono',consolas,'Courier New',monospace\">Manim Community <span style=\"color: #008000; text-decoration-color: #008000\">v0.18.1</span>\n",
       "\n",
       "</pre>\n"
      ],
      "text/plain": [
       "Manim Community \u001b[32mv0.\u001b[0m\u001b[32m18.1\u001b[0m\n",
       "\n"
      ]
     },
     "metadata": {},
     "output_type": "display_data"
    },
    {
     "name": "stderr",
     "output_type": "stream",
     "text": [
      "                                                                                                                                                                                               \r"
     ]
    },
    {
     "data": {
      "text/html": [
       "<video src=\"media/jupyter/PerspectiveSwitch@2024-10-12@16-02-06.mp4\" controls autoplay loop style=\"max-width: 75%;\"  >\n",
       "      Your browser does not support the <code>video</code> element.\n",
       "    </video>"
      ],
      "text/plain": [
       "<IPython.core.display.Video object>"
      ]
     },
     "metadata": {},
     "output_type": "display_data"
    }
   ],
   "source": [
    "%%manim -qm PerspectiveSwitch\n",
    "\n",
    "class PerspectiveSwitch(ThreeDScene):\n",
    "    def construct(self):\n",
    "        # Setup 3D Axes with a grid-like box\n",
    "        axes = ThreeDAxes(x_range=[-5, 5], y_range=[-5, 5], z_range=[-5, 5], \n",
    "                          x_length=6, y_length=6, z_length=6)\n",
    "        \n",
    "        # Two points in 3D space\n",
    "        point1 = Dot3D(axes.coords_to_point(1.5, 2, 0.5), color=RED, radius=0.1)\n",
    "        point2 = Dot3D(axes.coords_to_point(2.5, 2.5, 4.5), color=BLUE, radius=0.1)\n",
    "\n",
    "        # Create labels for the points\n",
    "        #label1 = Text(\"Point 1\").next_to(point1, RIGHT).scale(0.5)\n",
    "        #label2 = Text(\"Point 2\").next_to(point2, RIGHT).scale(0.5)\n",
    "\n",
    "        # Adding the transparent grid box\n",
    "        grid_box = Cube(side_length=6, fill_opacity=0.1, stroke_width=1)\n",
    "        \n",
    "        # Group everything together\n",
    "        # scene_objects = VGroup(axes, point1, point2, label1, label2, grid_box)\n",
    "        scene_objects = VGroup(axes, point1, point2, grid_box)\n",
    "        \n",
    "        # Initial camera setup\n",
    "        self.set_camera_orientation(phi=75 * DEGREES, theta=45 * DEGREES)\n",
    "\n",
    "        # Display the initial scene\n",
    "        self.add(scene_objects)\n",
    "        \n",
    "        # Rotate to a view where the points appear closer\n",
    "        # self.play(Rotate(scene_objects, angle=PI/8, axis=DOWN, run_time=3))\n",
    "        # self.wait(2)\n",
    "\n",
    "        # Rotate to a view where the points appear far apart\n",
    "        # self.play(Rotate(scene_objects, angle=-PI/3, axis=RIGHT, run_time=3))\n",
    "        # self.wait(2)\n",
    "\n",
    "        self.wait(2)\n",
    "        \n",
    "        \n",
    "        # Final view to contrast perspectives\n",
    "        self.move_camera(phi=90 * DEGREES, theta=90 * DEGREES, run_time=3)\n",
    "        self.wait(2)\n",
    "        self.move_camera(phi=0 * DEGREES, theta=90 * DEGREES, run_time=3)\n",
    "\n",
    "        self.wait(2)\n",
    "        \n",
    "        # Ending the scene\n",
    "        self.play(FadeOut(scene_objects))\n",
    "\n",
    "# To render, you would need to run this in a Manim environment with:\n",
    "# manim -pql filename.py PerspectiveSwitch\n"
   ]
  },
  {
   "cell_type": "code",
   "execution_count": 35,
   "id": "85d27f3a-4a0c-4268-b55b-5e4b434aa65e",
   "metadata": {},
   "outputs": [
    {
     "data": {
      "text/html": [
       "<pre style=\"white-space:pre;overflow-x:auto;line-height:normal;font-family:Menlo,'DejaVu Sans Mono',consolas,'Courier New',monospace\">Manim Community <span style=\"color: #008000; text-decoration-color: #008000\">v0.18.1</span>\n",
       "\n",
       "</pre>\n"
      ],
      "text/plain": [
       "Manim Community \u001b[32mv0.\u001b[0m\u001b[32m18.1\u001b[0m\n",
       "\n"
      ]
     },
     "metadata": {},
     "output_type": "display_data"
    },
    {
     "name": "stderr",
     "output_type": "stream",
     "text": [
      "                                                                                              \r"
     ]
    },
    {
     "data": {
      "text/html": [
       "<video src=\"media/jupyter/NormalDistribution3D@2024-10-12@17-40-11.mp4\" controls autoplay loop style=\"max-width: 75%;\"  >\n",
       "      Your browser does not support the <code>video</code> element.\n",
       "    </video>"
      ],
      "text/plain": [
       "<IPython.core.display.Video object>"
      ]
     },
     "metadata": {},
     "output_type": "display_data"
    }
   ],
   "source": [
    "\n",
    "%%manim -qm NormalDistribution3D\n",
    "\n",
    "\n",
    "class NormalDistribution3D(ThreeDScene):\n",
    "    def construct(self):\n",
    "        # Setup 3D Axes\n",
    "        axes = ThreeDAxes(x_range=[-3, 3], y_range=[-3, 3], z_range=[0, 1.0], \n",
    "                          x_length=6, y_length=6, z_length=4)\n",
    "\n",
    "        # Create the Gaussian bell curve\n",
    "        def gaussian_3d(x, y):\n",
    "            return np.exp(-(x**2 + y**2) / 2) / (2 * np.pi)\n",
    "        \n",
    "        # Generate surface\n",
    "        surface = Surface(\n",
    "            lambda u, v: axes.c2p(u, v, gaussian_3d(u, v)),\n",
    "            u_range=[-3, 3],\n",
    "            v_range=[-3, 3],\n",
    "            resolution=(30, 30),\n",
    "            fill_opacity=0.7,\n",
    "            stroke_color=BLUE,\n",
    "        )\n",
    "\n",
    "        # Points: One at (0, 0, 0), one nearby, and one far away\n",
    "        point1 = Dot3D(axes.coords_to_point(0, 0, gaussian_3d(0, 0)), color=RED, radius=0.1)\n",
    "        point2 = Dot3D(axes.coords_to_point(0.5, 0.5, gaussian_3d(0.5, 0.5)), color=GREEN, radius=0.1)\n",
    "        point3 = Dot3D(axes.coords_to_point(4, 1, gaussian_3d(2, 2)), color=YELLOW, radius=0.1)\n",
    "\n",
    "        # Labels for the points\n",
    "        # label1 = Text(\"Point 1\").next_to(point1, RIGHT).scale(0.5)\n",
    "        # label2 = Text(\"Point 2\").next_to(point2, RIGHT).scale(0.5)\n",
    "        # label3 = Text(\"Point 3\").next_to(point3, RIGHT).scale(0.5)\n",
    "\n",
    "        # Group the points and labels\n",
    "        # points = VGroup(point1, point2, point3, label1, label2, label3)\n",
    "        points = VGroup(point1, point2, point3)\n",
    "        # Camera setup\n",
    "        self.set_camera_orientation(phi=75 * DEGREES, theta=0 * DEGREES)\n",
    "\n",
    "        self.add(axes,points)\n",
    "        self.wait(3)\n",
    "        # Add axes and surface to the scene\n",
    "        self.add(axes, surface, points)\n",
    "\n",
    "        self.play(Create(surface))\n",
    "\n",
    "        # Highlight the points\n",
    "        # self.play(FadeIn(point1, point2, point3, label1, label2, label3))\n",
    "        self.play(FadeIn(point1, point2, point3))\n",
    "        self.wait(2)\n",
    "\n",
    "        # Move the camera around to show different perspectives\n",
    "        self.move_camera(phi=75 * DEGREES, theta=90 * DEGREES, run_time=5)\n",
    "        self.wait(2)\n",
    "\n",
    "        # End the scene\n",
    "        self.play(FadeOut(axes, surface, points))\n",
    "\n",
    "# To render, you would need to run this in a Manim environment with:\n",
    "# manim -pql filename.py NormalDistribution3D\n"
   ]
  }
 ],
 "metadata": {
  "kernelspec": {
   "display_name": "Python 3 (ipykernel)",
   "language": "python",
   "name": "python3"
  },
  "language_info": {
   "codemirror_mode": {
    "name": "ipython",
    "version": 3
   },
   "file_extension": ".py",
   "mimetype": "text/x-python",
   "name": "python",
   "nbconvert_exporter": "python",
   "pygments_lexer": "ipython3",
   "version": "3.11.7"
  }
 },
 "nbformat": 4,
 "nbformat_minor": 5
}
